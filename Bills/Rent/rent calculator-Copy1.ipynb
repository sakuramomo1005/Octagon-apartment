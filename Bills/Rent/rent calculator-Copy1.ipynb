{
 "cells": [
  {
   "cell_type": "markdown",
   "metadata": {},
   "source": [
    "![Bill for January](201903.png)"
   ]
  },
  {
   "cell_type": "code",
   "execution_count": 3,
   "metadata": {
    "scrolled": true
   },
   "outputs": [
    {
     "name": "stdout",
     "output_type": "stream",
     "text": [
      "The date: 2019 Feb\n",
      "2019 Feb`s utility: $300.53\n",
      "2019 Feb`s internet: $14.9\n",
      "Each one should pay utility+internet: $ 63.08599999999999\n",
      "**********************************************************************\n",
      "please transfer money to lease holder before due date in our agreement\n",
      "**********************************************************************\n"
     ]
    },
    {
     "data": {
      "text/html": [
       "<div>\n",
       "<style scoped>\n",
       "    .dataframe tbody tr th:only-of-type {\n",
       "        vertical-align: middle;\n",
       "    }\n",
       "\n",
       "    .dataframe tbody tr th {\n",
       "        vertical-align: top;\n",
       "    }\n",
       "\n",
       "    .dataframe thead th {\n",
       "        text-align: right;\n",
       "    }\n",
       "</style>\n",
       "<table border=\"1\" class=\"dataframe\">\n",
       "  <thead>\n",
       "    <tr style=\"text-align: right;\">\n",
       "      <th></th>\n",
       "      <th>Rent</th>\n",
       "      <th>Other_Fee</th>\n",
       "      <th>Total</th>\n",
       "    </tr>\n",
       "  </thead>\n",
       "  <tbody>\n",
       "    <tr>\n",
       "      <th>Total</th>\n",
       "      <td>5350</td>\n",
       "      <td>315.430</td>\n",
       "      <td>5665.430</td>\n",
       "    </tr>\n",
       "    <tr>\n",
       "      <th>Living Room</th>\n",
       "      <td>1150</td>\n",
       "      <td>63.086</td>\n",
       "      <td>1213.086</td>\n",
       "    </tr>\n",
       "    <tr>\n",
       "      <th>Room 1</th>\n",
       "      <td>1280</td>\n",
       "      <td>63.086</td>\n",
       "      <td>1343.086</td>\n",
       "    </tr>\n",
       "    <tr>\n",
       "      <th>Room 2</th>\n",
       "      <td>1280</td>\n",
       "      <td>63.086</td>\n",
       "      <td>1343.086</td>\n",
       "    </tr>\n",
       "    <tr>\n",
       "      <th>Main Bedroom</th>\n",
       "      <td>1640</td>\n",
       "      <td>126.172</td>\n",
       "      <td>1766.172</td>\n",
       "    </tr>\n",
       "  </tbody>\n",
       "</table>\n",
       "</div>"
      ],
      "text/plain": [
       "              Rent  Other_Fee     Total\n",
       "Total         5350    315.430  5665.430\n",
       "Living Room   1150     63.086  1213.086\n",
       "Room 1        1280     63.086  1343.086\n",
       "Room 2        1280     63.086  1343.086\n",
       "Main Bedroom  1640    126.172  1766.172"
      ]
     },
     "execution_count": 3,
     "metadata": {},
     "output_type": "execute_result"
    }
   ],
   "source": [
    "octagon5()"
   ]
  },
  {
   "cell_type": "code",
   "execution_count": 2,
   "metadata": {},
   "outputs": [],
   "source": [
    "def octagon5():\n",
    "    '''\n",
    "    the function to calculate our fees when there are five people\n",
    "    '''\n",
    "    import numpy as np\n",
    "    import pandas as pd\n",
    "    date = input('The date: ')\n",
    "    utility = np.float(input(date + '`s utility: $'))\n",
    "    internet = np.float(input(date + '`s internet: $'))\n",
    "    uti_int = (utility + internet)/5\n",
    "    print('Each one should pay utility+internet: $', uti_int)\n",
    "    rent = [5350,1150,1280,1280,1640]\n",
    "    uti_ints = list(np.repeat(uti_int,4));uti_ints[3] = uti_ints[3] *2\n",
    "    other_fees = [utility + internet]; other_fees.extend(uti_ints)\n",
    "    room = ['Total','Living Room','Room 1','Room 2','Main Bedroom']\n",
    "    total = pd.DataFrame(rent);\n",
    "    total.index = room;\n",
    "    total.columns = ['Rent'];\n",
    "    total['Other_Fee'] = other_fees\n",
    "    total['Total'] = np.sum(total,axis=1)\n",
    "    print('**********************************************************************')\n",
    "    print('please transfer money to lease holder before due date in our agreement')\n",
    "    print('**********************************************************************')\n",
    "    return(total)"
   ]
  },
  {
   "cell_type": "code",
   "execution_count": null,
   "metadata": {},
   "outputs": [],
   "source": []
  }
 ],
 "metadata": {
  "kernelspec": {
   "display_name": "Python 3",
   "language": "python",
   "name": "python3"
  },
  "language_info": {
   "codemirror_mode": {
    "name": "ipython",
    "version": 3
   },
   "file_extension": ".py",
   "mimetype": "text/x-python",
   "name": "python",
   "nbconvert_exporter": "python",
   "pygments_lexer": "ipython3",
   "version": "3.6.7"
  }
 },
 "nbformat": 4,
 "nbformat_minor": 2
}
